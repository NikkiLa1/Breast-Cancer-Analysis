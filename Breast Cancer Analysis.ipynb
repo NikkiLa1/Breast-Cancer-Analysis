{
 "cells": [
  {
   "cell_type": "markdown",
   "id": "9aa12973",
   "metadata": {},
   "source": [
    "# Project 1: Breast Cancer Project 1\n",
    "\n",
    "\n",
    "### This is a dataset from UCI Machine Learning, found on Kaggle. This dataset is \"Breast Cancer Wisconsin (Diagnostic) Data Set\" \n",
    "### The primary goal of this project is to conduct a comparative study of various machine learning algorithms for predicting benign or malignant breast cancer cases. \n",
    "\n",
    "### Specifically, aim to: Evaluate the performance of a diverse set of machine learning algorithms, such as k-nearest neighbors, naïve bayes classifier, and random forests, in predicting the malignancy of breast tumors\n",
    "\n",
    "### Link https://www.kaggle.com/datasets/uciml/breast-cancer-wisconsin-data/data "
   ]
  },
  {
   "cell_type": "code",
   "execution_count": 1,
   "id": "22611e78",
   "metadata": {},
   "outputs": [],
   "source": [
    "import pandas as pd\n",
    "import matplotlib.pyplot as plt\n",
    "import numpy as np\n",
    "from sklearn.preprocessing import OrdinalEncoder # for encoding categorical features from strings to number arrays\n",
    "from sklearn.naive_bayes import CategoricalNB\n",
    "from sklearn.preprocessing import LabelEncoder\n",
    "from sklearn.metrics import confusion_matrix\n",
    "from sklearn.metrics import accuracy_score\n",
    "from sklearn.inspection import permutation_importance\n",
    "\n",
    "import sklearn\n",
    "import seaborn as sns\n",
    "from sklearn.model_selection import train_test_split\n",
    "from sklearn.neighbors import KNeighborsClassifier\n",
    "from sklearn.preprocessing import StandardScaler\n",
    "\n",
    "from sklearn.metrics import classification_report\n",
    "from sklearn.model_selection import GridSearchCV\n",
    "from sklearn.preprocessing import StandardScaler\n",
    "from sklearn.metrics import precision_recall_curve\n",
    "from sklearn.metrics import roc_curve\n",
    "from sklearn.naive_bayes import GaussianNB\n",
    "from sklearn.ensemble import RandomForestClassifier"
   ]
  },
  {
   "cell_type": "markdown",
   "id": "062b35ae",
   "metadata": {},
   "source": [
    "### Loading and Cleaning the Data"
   ]
  },
  {
   "cell_type": "code",
   "execution_count": 2,
   "id": "e0bc5e61",
   "metadata": {},
   "outputs": [
    {
     "data": {
      "text/html": [
       "<div>\n",
       "<style scoped>\n",
       "    .dataframe tbody tr th:only-of-type {\n",
       "        vertical-align: middle;\n",
       "    }\n",
       "\n",
       "    .dataframe tbody tr th {\n",
       "        vertical-align: top;\n",
       "    }\n",
       "\n",
       "    .dataframe thead th {\n",
       "        text-align: right;\n",
       "    }\n",
       "</style>\n",
       "<table border=\"1\" class=\"dataframe\">\n",
       "  <thead>\n",
       "    <tr style=\"text-align: right;\">\n",
       "      <th></th>\n",
       "      <th>id</th>\n",
       "      <th>diagnosis</th>\n",
       "      <th>radius_mean</th>\n",
       "      <th>texture_mean</th>\n",
       "      <th>perimeter_mean</th>\n",
       "      <th>area_mean</th>\n",
       "      <th>smoothness_mean</th>\n",
       "      <th>compactness_mean</th>\n",
       "      <th>concavity_mean</th>\n",
       "      <th>concave points_mean</th>\n",
       "      <th>...</th>\n",
       "      <th>texture_worst</th>\n",
       "      <th>perimeter_worst</th>\n",
       "      <th>area_worst</th>\n",
       "      <th>smoothness_worst</th>\n",
       "      <th>compactness_worst</th>\n",
       "      <th>concavity_worst</th>\n",
       "      <th>concave points_worst</th>\n",
       "      <th>symmetry_worst</th>\n",
       "      <th>fractal_dimension_worst</th>\n",
       "      <th>Unnamed: 32</th>\n",
       "    </tr>\n",
       "  </thead>\n",
       "  <tbody>\n",
       "    <tr>\n",
       "      <th>0</th>\n",
       "      <td>842302</td>\n",
       "      <td>M</td>\n",
       "      <td>17.99</td>\n",
       "      <td>10.38</td>\n",
       "      <td>122.80</td>\n",
       "      <td>1001.0</td>\n",
       "      <td>0.11840</td>\n",
       "      <td>0.27760</td>\n",
       "      <td>0.30010</td>\n",
       "      <td>0.14710</td>\n",
       "      <td>...</td>\n",
       "      <td>17.33</td>\n",
       "      <td>184.60</td>\n",
       "      <td>2019.0</td>\n",
       "      <td>0.16220</td>\n",
       "      <td>0.66560</td>\n",
       "      <td>0.7119</td>\n",
       "      <td>0.2654</td>\n",
       "      <td>0.4601</td>\n",
       "      <td>0.11890</td>\n",
       "      <td>NaN</td>\n",
       "    </tr>\n",
       "    <tr>\n",
       "      <th>1</th>\n",
       "      <td>842517</td>\n",
       "      <td>M</td>\n",
       "      <td>20.57</td>\n",
       "      <td>17.77</td>\n",
       "      <td>132.90</td>\n",
       "      <td>1326.0</td>\n",
       "      <td>0.08474</td>\n",
       "      <td>0.07864</td>\n",
       "      <td>0.08690</td>\n",
       "      <td>0.07017</td>\n",
       "      <td>...</td>\n",
       "      <td>23.41</td>\n",
       "      <td>158.80</td>\n",
       "      <td>1956.0</td>\n",
       "      <td>0.12380</td>\n",
       "      <td>0.18660</td>\n",
       "      <td>0.2416</td>\n",
       "      <td>0.1860</td>\n",
       "      <td>0.2750</td>\n",
       "      <td>0.08902</td>\n",
       "      <td>NaN</td>\n",
       "    </tr>\n",
       "    <tr>\n",
       "      <th>2</th>\n",
       "      <td>84300903</td>\n",
       "      <td>M</td>\n",
       "      <td>19.69</td>\n",
       "      <td>21.25</td>\n",
       "      <td>130.00</td>\n",
       "      <td>1203.0</td>\n",
       "      <td>0.10960</td>\n",
       "      <td>0.15990</td>\n",
       "      <td>0.19740</td>\n",
       "      <td>0.12790</td>\n",
       "      <td>...</td>\n",
       "      <td>25.53</td>\n",
       "      <td>152.50</td>\n",
       "      <td>1709.0</td>\n",
       "      <td>0.14440</td>\n",
       "      <td>0.42450</td>\n",
       "      <td>0.4504</td>\n",
       "      <td>0.2430</td>\n",
       "      <td>0.3613</td>\n",
       "      <td>0.08758</td>\n",
       "      <td>NaN</td>\n",
       "    </tr>\n",
       "    <tr>\n",
       "      <th>3</th>\n",
       "      <td>84348301</td>\n",
       "      <td>M</td>\n",
       "      <td>11.42</td>\n",
       "      <td>20.38</td>\n",
       "      <td>77.58</td>\n",
       "      <td>386.1</td>\n",
       "      <td>0.14250</td>\n",
       "      <td>0.28390</td>\n",
       "      <td>0.24140</td>\n",
       "      <td>0.10520</td>\n",
       "      <td>...</td>\n",
       "      <td>26.50</td>\n",
       "      <td>98.87</td>\n",
       "      <td>567.7</td>\n",
       "      <td>0.20980</td>\n",
       "      <td>0.86630</td>\n",
       "      <td>0.6869</td>\n",
       "      <td>0.2575</td>\n",
       "      <td>0.6638</td>\n",
       "      <td>0.17300</td>\n",
       "      <td>NaN</td>\n",
       "    </tr>\n",
       "    <tr>\n",
       "      <th>4</th>\n",
       "      <td>84358402</td>\n",
       "      <td>M</td>\n",
       "      <td>20.29</td>\n",
       "      <td>14.34</td>\n",
       "      <td>135.10</td>\n",
       "      <td>1297.0</td>\n",
       "      <td>0.10030</td>\n",
       "      <td>0.13280</td>\n",
       "      <td>0.19800</td>\n",
       "      <td>0.10430</td>\n",
       "      <td>...</td>\n",
       "      <td>16.67</td>\n",
       "      <td>152.20</td>\n",
       "      <td>1575.0</td>\n",
       "      <td>0.13740</td>\n",
       "      <td>0.20500</td>\n",
       "      <td>0.4000</td>\n",
       "      <td>0.1625</td>\n",
       "      <td>0.2364</td>\n",
       "      <td>0.07678</td>\n",
       "      <td>NaN</td>\n",
       "    </tr>\n",
       "    <tr>\n",
       "      <th>...</th>\n",
       "      <td>...</td>\n",
       "      <td>...</td>\n",
       "      <td>...</td>\n",
       "      <td>...</td>\n",
       "      <td>...</td>\n",
       "      <td>...</td>\n",
       "      <td>...</td>\n",
       "      <td>...</td>\n",
       "      <td>...</td>\n",
       "      <td>...</td>\n",
       "      <td>...</td>\n",
       "      <td>...</td>\n",
       "      <td>...</td>\n",
       "      <td>...</td>\n",
       "      <td>...</td>\n",
       "      <td>...</td>\n",
       "      <td>...</td>\n",
       "      <td>...</td>\n",
       "      <td>...</td>\n",
       "      <td>...</td>\n",
       "      <td>...</td>\n",
       "    </tr>\n",
       "    <tr>\n",
       "      <th>564</th>\n",
       "      <td>926424</td>\n",
       "      <td>M</td>\n",
       "      <td>21.56</td>\n",
       "      <td>22.39</td>\n",
       "      <td>142.00</td>\n",
       "      <td>1479.0</td>\n",
       "      <td>0.11100</td>\n",
       "      <td>0.11590</td>\n",
       "      <td>0.24390</td>\n",
       "      <td>0.13890</td>\n",
       "      <td>...</td>\n",
       "      <td>26.40</td>\n",
       "      <td>166.10</td>\n",
       "      <td>2027.0</td>\n",
       "      <td>0.14100</td>\n",
       "      <td>0.21130</td>\n",
       "      <td>0.4107</td>\n",
       "      <td>0.2216</td>\n",
       "      <td>0.2060</td>\n",
       "      <td>0.07115</td>\n",
       "      <td>NaN</td>\n",
       "    </tr>\n",
       "    <tr>\n",
       "      <th>565</th>\n",
       "      <td>926682</td>\n",
       "      <td>M</td>\n",
       "      <td>20.13</td>\n",
       "      <td>28.25</td>\n",
       "      <td>131.20</td>\n",
       "      <td>1261.0</td>\n",
       "      <td>0.09780</td>\n",
       "      <td>0.10340</td>\n",
       "      <td>0.14400</td>\n",
       "      <td>0.09791</td>\n",
       "      <td>...</td>\n",
       "      <td>38.25</td>\n",
       "      <td>155.00</td>\n",
       "      <td>1731.0</td>\n",
       "      <td>0.11660</td>\n",
       "      <td>0.19220</td>\n",
       "      <td>0.3215</td>\n",
       "      <td>0.1628</td>\n",
       "      <td>0.2572</td>\n",
       "      <td>0.06637</td>\n",
       "      <td>NaN</td>\n",
       "    </tr>\n",
       "    <tr>\n",
       "      <th>566</th>\n",
       "      <td>926954</td>\n",
       "      <td>M</td>\n",
       "      <td>16.60</td>\n",
       "      <td>28.08</td>\n",
       "      <td>108.30</td>\n",
       "      <td>858.1</td>\n",
       "      <td>0.08455</td>\n",
       "      <td>0.10230</td>\n",
       "      <td>0.09251</td>\n",
       "      <td>0.05302</td>\n",
       "      <td>...</td>\n",
       "      <td>34.12</td>\n",
       "      <td>126.70</td>\n",
       "      <td>1124.0</td>\n",
       "      <td>0.11390</td>\n",
       "      <td>0.30940</td>\n",
       "      <td>0.3403</td>\n",
       "      <td>0.1418</td>\n",
       "      <td>0.2218</td>\n",
       "      <td>0.07820</td>\n",
       "      <td>NaN</td>\n",
       "    </tr>\n",
       "    <tr>\n",
       "      <th>567</th>\n",
       "      <td>927241</td>\n",
       "      <td>M</td>\n",
       "      <td>20.60</td>\n",
       "      <td>29.33</td>\n",
       "      <td>140.10</td>\n",
       "      <td>1265.0</td>\n",
       "      <td>0.11780</td>\n",
       "      <td>0.27700</td>\n",
       "      <td>0.35140</td>\n",
       "      <td>0.15200</td>\n",
       "      <td>...</td>\n",
       "      <td>39.42</td>\n",
       "      <td>184.60</td>\n",
       "      <td>1821.0</td>\n",
       "      <td>0.16500</td>\n",
       "      <td>0.86810</td>\n",
       "      <td>0.9387</td>\n",
       "      <td>0.2650</td>\n",
       "      <td>0.4087</td>\n",
       "      <td>0.12400</td>\n",
       "      <td>NaN</td>\n",
       "    </tr>\n",
       "    <tr>\n",
       "      <th>568</th>\n",
       "      <td>92751</td>\n",
       "      <td>B</td>\n",
       "      <td>7.76</td>\n",
       "      <td>24.54</td>\n",
       "      <td>47.92</td>\n",
       "      <td>181.0</td>\n",
       "      <td>0.05263</td>\n",
       "      <td>0.04362</td>\n",
       "      <td>0.00000</td>\n",
       "      <td>0.00000</td>\n",
       "      <td>...</td>\n",
       "      <td>30.37</td>\n",
       "      <td>59.16</td>\n",
       "      <td>268.6</td>\n",
       "      <td>0.08996</td>\n",
       "      <td>0.06444</td>\n",
       "      <td>0.0000</td>\n",
       "      <td>0.0000</td>\n",
       "      <td>0.2871</td>\n",
       "      <td>0.07039</td>\n",
       "      <td>NaN</td>\n",
       "    </tr>\n",
       "  </tbody>\n",
       "</table>\n",
       "<p>569 rows × 33 columns</p>\n",
       "</div>"
      ],
      "text/plain": [
       "           id diagnosis  radius_mean  texture_mean  perimeter_mean  area_mean  \\\n",
       "0      842302         M        17.99         10.38          122.80     1001.0   \n",
       "1      842517         M        20.57         17.77          132.90     1326.0   \n",
       "2    84300903         M        19.69         21.25          130.00     1203.0   \n",
       "3    84348301         M        11.42         20.38           77.58      386.1   \n",
       "4    84358402         M        20.29         14.34          135.10     1297.0   \n",
       "..        ...       ...          ...           ...             ...        ...   \n",
       "564    926424         M        21.56         22.39          142.00     1479.0   \n",
       "565    926682         M        20.13         28.25          131.20     1261.0   \n",
       "566    926954         M        16.60         28.08          108.30      858.1   \n",
       "567    927241         M        20.60         29.33          140.10     1265.0   \n",
       "568     92751         B         7.76         24.54           47.92      181.0   \n",
       "\n",
       "     smoothness_mean  compactness_mean  concavity_mean  concave points_mean  \\\n",
       "0            0.11840           0.27760         0.30010              0.14710   \n",
       "1            0.08474           0.07864         0.08690              0.07017   \n",
       "2            0.10960           0.15990         0.19740              0.12790   \n",
       "3            0.14250           0.28390         0.24140              0.10520   \n",
       "4            0.10030           0.13280         0.19800              0.10430   \n",
       "..               ...               ...             ...                  ...   \n",
       "564          0.11100           0.11590         0.24390              0.13890   \n",
       "565          0.09780           0.10340         0.14400              0.09791   \n",
       "566          0.08455           0.10230         0.09251              0.05302   \n",
       "567          0.11780           0.27700         0.35140              0.15200   \n",
       "568          0.05263           0.04362         0.00000              0.00000   \n",
       "\n",
       "     ...  texture_worst  perimeter_worst  area_worst  smoothness_worst  \\\n",
       "0    ...          17.33           184.60      2019.0           0.16220   \n",
       "1    ...          23.41           158.80      1956.0           0.12380   \n",
       "2    ...          25.53           152.50      1709.0           0.14440   \n",
       "3    ...          26.50            98.87       567.7           0.20980   \n",
       "4    ...          16.67           152.20      1575.0           0.13740   \n",
       "..   ...            ...              ...         ...               ...   \n",
       "564  ...          26.40           166.10      2027.0           0.14100   \n",
       "565  ...          38.25           155.00      1731.0           0.11660   \n",
       "566  ...          34.12           126.70      1124.0           0.11390   \n",
       "567  ...          39.42           184.60      1821.0           0.16500   \n",
       "568  ...          30.37            59.16       268.6           0.08996   \n",
       "\n",
       "     compactness_worst  concavity_worst  concave points_worst  symmetry_worst  \\\n",
       "0              0.66560           0.7119                0.2654          0.4601   \n",
       "1              0.18660           0.2416                0.1860          0.2750   \n",
       "2              0.42450           0.4504                0.2430          0.3613   \n",
       "3              0.86630           0.6869                0.2575          0.6638   \n",
       "4              0.20500           0.4000                0.1625          0.2364   \n",
       "..                 ...              ...                   ...             ...   \n",
       "564            0.21130           0.4107                0.2216          0.2060   \n",
       "565            0.19220           0.3215                0.1628          0.2572   \n",
       "566            0.30940           0.3403                0.1418          0.2218   \n",
       "567            0.86810           0.9387                0.2650          0.4087   \n",
       "568            0.06444           0.0000                0.0000          0.2871   \n",
       "\n",
       "     fractal_dimension_worst  Unnamed: 32  \n",
       "0                    0.11890          NaN  \n",
       "1                    0.08902          NaN  \n",
       "2                    0.08758          NaN  \n",
       "3                    0.17300          NaN  \n",
       "4                    0.07678          NaN  \n",
       "..                       ...          ...  \n",
       "564                  0.07115          NaN  \n",
       "565                  0.06637          NaN  \n",
       "566                  0.07820          NaN  \n",
       "567                  0.12400          NaN  \n",
       "568                  0.07039          NaN  \n",
       "\n",
       "[569 rows x 33 columns]"
      ]
     },
     "execution_count": 2,
     "metadata": {},
     "output_type": "execute_result"
    }
   ],
   "source": [
    "df = pd.read_csv(\"data.csv\")\n",
    "df"
   ]
  },
  {
   "cell_type": "markdown",
   "id": "6fcde54f",
   "metadata": {},
   "source": [
    "### Note\n",
    "#### Why are only some columns kept and others exluded (Feature Selection)?\n",
    "- Only keeping mean values of the dataset. I exclude the standard error and largest mean value for mean of distances from center to points on the perimeter.\n",
    "- Mean values are often more stable and less sensitive to outliers compared to the SE / largest mean value.\n",
    "- Mean values also seem to be more informative.\n",
    "- \"mean\" features may be more clinically relevant.\n",
    "- Also did so for reduced dimensionality. As simpler models are less prone to overfitting."
   ]
  },
  {
   "cell_type": "code",
   "execution_count": 3,
   "id": "643b8546",
   "metadata": {},
   "outputs": [],
   "source": [
    "# Dropped the last Unnamed column\n",
    "df.drop(\"Unnamed: 32\", axis = 1, inplace = True)\n",
    "\n",
    "# Changed diagnosis to binary target values\n",
    "df['diagnosis'] = df['diagnosis'].map({'M': 1, 'B': 0})\n",
    "\n",
    "# Only work on the mean valued feature columns\n",
    "columns_to_keep = ['diagnosis','radius_mean', 'texture_mean', 'perimeter_mean', 'area_mean', 'smoothness_mean', \n",
    "                   'compactness_mean', 'concavity_mean', 'concave points_mean', 'symmetry_mean', 'fractal_dimension_mean']\n",
    "\n",
    "df = df[columns_to_keep]"
   ]
  },
  {
   "cell_type": "code",
   "execution_count": 4,
   "id": "d851d094",
   "metadata": {},
   "outputs": [
    {
     "name": "stdout",
     "output_type": "stream",
     "text": [
      "diagnosis                 0\n",
      "radius_mean               0\n",
      "texture_mean              0\n",
      "perimeter_mean            0\n",
      "area_mean                 0\n",
      "smoothness_mean           0\n",
      "compactness_mean          0\n",
      "concavity_mean            0\n",
      "concave points_mean       0\n",
      "symmetry_mean             0\n",
      "fractal_dimension_mean    0\n",
      "dtype: int64\n"
     ]
    }
   ],
   "source": [
    "nan_counts = df.isna().sum()\n",
    "print(nan_counts) # No NaN values"
   ]
  },
  {
   "cell_type": "markdown",
   "id": "6feba26e",
   "metadata": {},
   "source": [
    "### Descriptive Statistics about Data"
   ]
  },
  {
   "cell_type": "code",
   "execution_count": 5,
   "id": "f45c91a0",
   "metadata": {},
   "outputs": [
    {
     "data": {
      "text/html": [
       "<div>\n",
       "<style scoped>\n",
       "    .dataframe tbody tr th:only-of-type {\n",
       "        vertical-align: middle;\n",
       "    }\n",
       "\n",
       "    .dataframe tbody tr th {\n",
       "        vertical-align: top;\n",
       "    }\n",
       "\n",
       "    .dataframe thead th {\n",
       "        text-align: right;\n",
       "    }\n",
       "</style>\n",
       "<table border=\"1\" class=\"dataframe\">\n",
       "  <thead>\n",
       "    <tr style=\"text-align: right;\">\n",
       "      <th></th>\n",
       "      <th>diagnosis</th>\n",
       "      <th>radius_mean</th>\n",
       "      <th>texture_mean</th>\n",
       "      <th>perimeter_mean</th>\n",
       "      <th>area_mean</th>\n",
       "      <th>smoothness_mean</th>\n",
       "      <th>compactness_mean</th>\n",
       "      <th>concavity_mean</th>\n",
       "      <th>concave points_mean</th>\n",
       "      <th>symmetry_mean</th>\n",
       "      <th>fractal_dimension_mean</th>\n",
       "    </tr>\n",
       "  </thead>\n",
       "  <tbody>\n",
       "    <tr>\n",
       "      <th>count</th>\n",
       "      <td>569.000000</td>\n",
       "      <td>569.000000</td>\n",
       "      <td>569.000000</td>\n",
       "      <td>569.000000</td>\n",
       "      <td>569.000000</td>\n",
       "      <td>569.000000</td>\n",
       "      <td>569.000000</td>\n",
       "      <td>569.000000</td>\n",
       "      <td>569.000000</td>\n",
       "      <td>569.000000</td>\n",
       "      <td>569.000000</td>\n",
       "    </tr>\n",
       "    <tr>\n",
       "      <th>mean</th>\n",
       "      <td>0.372583</td>\n",
       "      <td>14.127292</td>\n",
       "      <td>19.289649</td>\n",
       "      <td>91.969033</td>\n",
       "      <td>654.889104</td>\n",
       "      <td>0.096360</td>\n",
       "      <td>0.104341</td>\n",
       "      <td>0.088799</td>\n",
       "      <td>0.048919</td>\n",
       "      <td>0.181162</td>\n",
       "      <td>0.062798</td>\n",
       "    </tr>\n",
       "    <tr>\n",
       "      <th>std</th>\n",
       "      <td>0.483918</td>\n",
       "      <td>3.524049</td>\n",
       "      <td>4.301036</td>\n",
       "      <td>24.298981</td>\n",
       "      <td>351.914129</td>\n",
       "      <td>0.014064</td>\n",
       "      <td>0.052813</td>\n",
       "      <td>0.079720</td>\n",
       "      <td>0.038803</td>\n",
       "      <td>0.027414</td>\n",
       "      <td>0.007060</td>\n",
       "    </tr>\n",
       "    <tr>\n",
       "      <th>min</th>\n",
       "      <td>0.000000</td>\n",
       "      <td>6.981000</td>\n",
       "      <td>9.710000</td>\n",
       "      <td>43.790000</td>\n",
       "      <td>143.500000</td>\n",
       "      <td>0.052630</td>\n",
       "      <td>0.019380</td>\n",
       "      <td>0.000000</td>\n",
       "      <td>0.000000</td>\n",
       "      <td>0.106000</td>\n",
       "      <td>0.049960</td>\n",
       "    </tr>\n",
       "    <tr>\n",
       "      <th>25%</th>\n",
       "      <td>0.000000</td>\n",
       "      <td>11.700000</td>\n",
       "      <td>16.170000</td>\n",
       "      <td>75.170000</td>\n",
       "      <td>420.300000</td>\n",
       "      <td>0.086370</td>\n",
       "      <td>0.064920</td>\n",
       "      <td>0.029560</td>\n",
       "      <td>0.020310</td>\n",
       "      <td>0.161900</td>\n",
       "      <td>0.057700</td>\n",
       "    </tr>\n",
       "    <tr>\n",
       "      <th>50%</th>\n",
       "      <td>0.000000</td>\n",
       "      <td>13.370000</td>\n",
       "      <td>18.840000</td>\n",
       "      <td>86.240000</td>\n",
       "      <td>551.100000</td>\n",
       "      <td>0.095870</td>\n",
       "      <td>0.092630</td>\n",
       "      <td>0.061540</td>\n",
       "      <td>0.033500</td>\n",
       "      <td>0.179200</td>\n",
       "      <td>0.061540</td>\n",
       "    </tr>\n",
       "    <tr>\n",
       "      <th>75%</th>\n",
       "      <td>1.000000</td>\n",
       "      <td>15.780000</td>\n",
       "      <td>21.800000</td>\n",
       "      <td>104.100000</td>\n",
       "      <td>782.700000</td>\n",
       "      <td>0.105300</td>\n",
       "      <td>0.130400</td>\n",
       "      <td>0.130700</td>\n",
       "      <td>0.074000</td>\n",
       "      <td>0.195700</td>\n",
       "      <td>0.066120</td>\n",
       "    </tr>\n",
       "    <tr>\n",
       "      <th>max</th>\n",
       "      <td>1.000000</td>\n",
       "      <td>28.110000</td>\n",
       "      <td>39.280000</td>\n",
       "      <td>188.500000</td>\n",
       "      <td>2501.000000</td>\n",
       "      <td>0.163400</td>\n",
       "      <td>0.345400</td>\n",
       "      <td>0.426800</td>\n",
       "      <td>0.201200</td>\n",
       "      <td>0.304000</td>\n",
       "      <td>0.097440</td>\n",
       "    </tr>\n",
       "  </tbody>\n",
       "</table>\n",
       "</div>"
      ],
      "text/plain": [
       "        diagnosis  radius_mean  texture_mean  perimeter_mean    area_mean  \\\n",
       "count  569.000000   569.000000    569.000000      569.000000   569.000000   \n",
       "mean     0.372583    14.127292     19.289649       91.969033   654.889104   \n",
       "std      0.483918     3.524049      4.301036       24.298981   351.914129   \n",
       "min      0.000000     6.981000      9.710000       43.790000   143.500000   \n",
       "25%      0.000000    11.700000     16.170000       75.170000   420.300000   \n",
       "50%      0.000000    13.370000     18.840000       86.240000   551.100000   \n",
       "75%      1.000000    15.780000     21.800000      104.100000   782.700000   \n",
       "max      1.000000    28.110000     39.280000      188.500000  2501.000000   \n",
       "\n",
       "       smoothness_mean  compactness_mean  concavity_mean  concave points_mean  \\\n",
       "count       569.000000        569.000000      569.000000           569.000000   \n",
       "mean          0.096360          0.104341        0.088799             0.048919   \n",
       "std           0.014064          0.052813        0.079720             0.038803   \n",
       "min           0.052630          0.019380        0.000000             0.000000   \n",
       "25%           0.086370          0.064920        0.029560             0.020310   \n",
       "50%           0.095870          0.092630        0.061540             0.033500   \n",
       "75%           0.105300          0.130400        0.130700             0.074000   \n",
       "max           0.163400          0.345400        0.426800             0.201200   \n",
       "\n",
       "       symmetry_mean  fractal_dimension_mean  \n",
       "count     569.000000              569.000000  \n",
       "mean        0.181162                0.062798  \n",
       "std         0.027414                0.007060  \n",
       "min         0.106000                0.049960  \n",
       "25%         0.161900                0.057700  \n",
       "50%         0.179200                0.061540  \n",
       "75%         0.195700                0.066120  \n",
       "max         0.304000                0.097440  "
      ]
     },
     "execution_count": 5,
     "metadata": {},
     "output_type": "execute_result"
    }
   ],
   "source": [
    "df.describe()"
   ]
  },
  {
   "cell_type": "markdown",
   "id": "1b176199",
   "metadata": {},
   "source": [
    "### Brief Exploratory Data Analysis"
   ]
  },
  {
   "cell_type": "code",
   "execution_count": 6,
   "id": "19ac9919",
   "metadata": {},
   "outputs": [
    {
     "name": "stdout",
     "output_type": "stream",
     "text": [
      "0    357\n",
      "1    212\n",
      "Name: diagnosis, dtype: int64\n"
     ]
    }
   ],
   "source": [
    "diagnosis_counts = df['diagnosis'].value_counts()\n",
    "print(diagnosis_counts)"
   ]
  },
  {
   "cell_type": "code",
   "execution_count": 7,
   "id": "e97551e7",
   "metadata": {},
   "outputs": [
    {
     "data": {
      "text/plain": [
       "<function matplotlib.pyplot.show(close=None, block=None)>"
      ]
     },
     "execution_count": 7,
     "metadata": {},
     "output_type": "execute_result"
    },
    {
     "data": {
      "image/png": "[encoded data removed]",
      "text/plain": [
       "<Figure size 432x432 with 1 Axes>"
      ]
     },
     "metadata": {},
     "output_type": "display_data"
    }
   ],
   "source": [
    "# 0 = Benign, 1 = Malignant\n",
    "labels = ['0 = Benign', '1 = Malignant'] \n",
    "diagnosis_counts = df['diagnosis'].value_counts()\n",
    "\n",
    "# bright green = Benign, bright red = Malignant\n",
    "colors = ['#74E037', '#E73303']\n",
    "explode = [0, 0.1]\n",
    "\n",
    "# Create a pie plot\n",
    "plt.figure(figsize=(6, 6))\n",
    "plt.pie(diagnosis_counts, colors = colors, explode = explode, labels = labels, shadow = True, \n",
    "        startangle = 80, autopct='%.3f%%')\n",
    "plt.title('Diagnosis',fontsize = 20)\n",
    "plt.axis('off')\n",
    "plt.legend()\n",
    "plt.show"
   ]
  },
  {
   "cell_type": "code",
   "execution_count": 8,
   "id": "c59e9e8a",
   "metadata": {},
   "outputs": [
    {
     "data": {
      "image/png": "[encoded data removed]",
      "text/plain": [
       "<Figure size 864x576 with 10 Axes>"
      ]
     },
     "metadata": {
      "needs_background": "light"
     },
     "output_type": "display_data"
    }
   ],
   "source": [
    "# Plotting all the mean feature values\n",
    "columns_names = ['radius_mean', 'texture_mean', 'perimeter_mean', 'area_mean', 'smoothness_mean', 'compactness_mean', \n",
    "                 'concavity_mean', 'concave points_mean', 'symmetry_mean', 'fractal_dimension_mean']\n",
    "\n",
    "num_bins = 25\n",
    "\n",
    "# Subplots for each mean feature\n",
    "plt.figure(figsize=(12, 8))\n",
    "plt.suptitle('Frequency Distribution', fontsize=16) \n",
    "\n",
    "for i, col in enumerate(columns_names, 1):\n",
    "    plt.subplot(2, 5, i) \n",
    "    plt.hist(df[col], bins=num_bins, color='orange', edgecolor='black')\n",
    "    plt.title(col)\n",
    "    plt.xlabel(col)\n",
    "    plt.ylabel('Frequency')\n",
    "\n",
    "plt.tight_layout()\n",
    "plt.show()"
   ]
  },
  {
   "cell_type": "markdown",
   "id": "d643d640",
   "metadata": {},
   "source": [
    "- We see that there are more benign than malignant cases.\n",
    "- With the frequency distribution plot, we see that a majority of the plots are more right-skewed. With more means lying on the lower end of the values. Although there are some cases that are on the larger end."
   ]
  },
  {
   "cell_type": "markdown",
   "id": "bec61dff",
   "metadata": {},
   "source": [
    "# <font style=\"color: red\">(Model 1, k-Nearest Neighbors)</font>\n",
    "Why KNN for this?\n",
    "1. KNN is a simple algorithm that is easy to understand/implement\n",
    "2. Also good for binary classification\n",
    "3. Usage of hyperparameter to find the most optimal k value\n",
    "\n",
    "### Split Data Into Training and Testing Set \n",
    "1. Holding back 30% for testing\n",
    "2. Setting the random state to 42\n",
    "3. Features are the mean values\n",
    "4. Target is the diagnosis"
   ]
  },
  {
   "cell_type": "code",
   "execution_count": 9,
   "id": "b9739683",
   "metadata": {},
   "outputs": [],
   "source": [
    "# Features (independent variables) for the dataset\n",
    "X = df[['radius_mean', 'texture_mean', 'perimeter_mean', 'area_mean', 'smoothness_mean', \n",
    "        'compactness_mean', 'concavity_mean', 'concave points_mean', 'symmetry_mean', 'fractal_dimension_mean']]\n",
    "\n",
    "# Target variable (dependent variable)\n",
    "y = df['diagnosis']\n",
    "\n",
    "# Split the data into training and testing sets, with 70% of the data for training and 30% for testing\n",
    "X_train, X_test, y_train, y_test = train_test_split(X, y, test_size=0.3, random_state=42)"
   ]
  },
  {
   "cell_type": "markdown",
   "id": "848ec56c",
   "metadata": {},
   "source": [
    "### Rescaling the Data\n",
    "- Scaled the training and test data to ensure they both have the same scaling\n",
    "- So the ML model's performance is much more reliable"
   ]
  },
  {
   "cell_type": "code",
   "execution_count": 10,
   "id": "7ffa2f4e",
   "metadata": {},
   "outputs": [],
   "source": [
    "# StandardScaler instance to standardize the feature data\n",
    "scaler = StandardScaler()\n",
    "\n",
    "# Fit the scaler to the training data and transform the training features\n",
    "X_train_scaled = scaler.fit_transform(X_train)\n",
    "\n",
    "# Transform the testing features using the same scaling parameters\n",
    "X_test_scaled = scaler.transform(X_test)\n"
   ]
  },
  {
   "cell_type": "markdown",
   "id": "601997ab",
   "metadata": {},
   "source": [
    "### KNN Classification\n",
    "- Code below builds a KNN classifier with 6 neighbors\n",
    "- Used a random number to do this classification before doing hyperparameter tuning (GridSearchCV) to find the best n_neighbors value\n",
    "- Includes confusion matrix and accuracy"
   ]
  },
  {
   "cell_type": "code",
   "execution_count": 11,
   "id": "b1fa26ac",
   "metadata": {},
   "outputs": [
    {
     "data": {
      "image/png": "[encoded data removed]",
      "text/plain": [
       "<Figure size 576x432 with 1 Axes>"
      ]
     },
     "metadata": {
      "needs_background": "light"
     },
     "output_type": "display_data"
    },
    {
     "name": "stdout",
     "output_type": "stream",
     "text": [
      "Accuracy with 6 neighbors: 0.9707602339181286\n"
     ]
    }
   ],
   "source": [
    "# Create and train a KNN classifier\n",
    "knn_classifier = KNeighborsClassifier(n_neighbors=6)\n",
    "knn_classifier.fit(X_train_scaled, y_train)\n",
    "\n",
    "# Make predictions on the test data\n",
    "y_pred = knn_classifier.predict(X_test_scaled)\n",
    "\n",
    "# Calculate the confusion matrix\n",
    "cm = confusion_matrix(y_test, y_pred)\n",
    "\n",
    "# Calculate the accuracy score on the test data\n",
    "accuracy = knn_classifier.score(X_test_scaled, y_test)\n",
    "\n",
    "# Confusion matrix heatmap\n",
    "plt.figure(figsize=(8, 6))\n",
    "sns.heatmap(cm, annot=True, fmt='d', cmap='RdPu', cbar=False)\n",
    "plt.xlabel('Predicted Labels')\n",
    "plt.ylabel('True Labels')\n",
    "plt.title('Confusion Matrix')\n",
    "plt.show()\n",
    "print('Accuracy with 6 neighbors:', accuracy)"
   ]
  },
  {
   "cell_type": "markdown",
   "id": "e2647599",
   "metadata": {},
   "source": [
    "### Using GridSearchCV to Find Optimal Hyperparameter\n",
    "- Used GridSearchCV to search for optimal hyperparameter / best k value\n",
    "- Used 5-fold cross-validation"
   ]
  },
  {
   "cell_type": "code",
   "execution_count": 12,
   "id": "8b89feb7",
   "metadata": {},
   "outputs": [],
   "source": [
    "# KNN classifier instance\n",
    "knn_clf = KNeighborsClassifier()\n",
    "\n",
    "# Range of values for the hyperparameter 'n_neighbors' - 1 to 50\n",
    "parameters = {'n_neighbors': range(1, 51)}\n",
    "\n",
    "# GridSearchCV for hyperparameter tuning with 5-fold cross-validation\n",
    "grid_search = GridSearchCV(knn_clf, parameters, cv=5)\n",
    "\n",
    "# Fit GridSearchCV\n",
    "grid_search.fit(X_train_scaled, y_train)\n",
    "\n",
    "# Get the best 'n_neighbors' value from GridSearchCV\n",
    "k_best = grid_search.best_params_['n_neighbors']"
   ]
  },
  {
   "cell_type": "markdown",
   "id": "9539fb37",
   "metadata": {},
   "source": [
    "### Performance on Different K's"
   ]
  },
  {
   "cell_type": "code",
   "execution_count": 13,
   "id": "000c6bf7",
   "metadata": {},
   "outputs": [
    {
     "data": {
      "text/plain": [
       "Text(0, 0.5, 'R-squared')"
      ]
     },
     "execution_count": 13,
     "metadata": {},
     "output_type": "execute_result"
    },
    {
     "data": {
      "image/png": "[encoded data removed]",
      "text/plain": [
       "<Figure size 576x432 with 1 Axes>"
      ]
     },
     "metadata": {
      "needs_background": "light"
     },
     "output_type": "display_data"
    }
   ],
   "source": [
    "plt.figure(figsize=(8, 6))\n",
    "\n",
    "# Plot R-squared\n",
    "plt.plot(grid_search.cv_results_['mean_test_score'], linewidth=2)\n",
    "plt.xlabel('k (number of neighbors)')\n",
    "plt.ylabel('R-squared')"
   ]
  },
  {
   "cell_type": "markdown",
   "id": "e193eb3c",
   "metadata": {},
   "source": [
    "### Train Model, Predict\n",
    "- Sets up and trains KNN Classifier with the best value of k (13)\n",
    "    - Uses this model to make predicitions on test data"
   ]
  },
  {
   "cell_type": "code",
   "execution_count": 14,
   "id": "37e17ec7",
   "metadata": {},
   "outputs": [],
   "source": [
    "# Create KNN classifier with the best k value\n",
    "knn_model = KNeighborsClassifier(n_neighbors=k_best)\n",
    "\n",
    "# Fit the KNN classifier to the scaled training data\n",
    "classifier = knn_model.fit(X_train_scaled, y_train)\n",
    "\n",
    "# Trained KNN classifier to make predictions on the scaled test data\n",
    "test_preds = knn_model.predict(X_test_scaled)"
   ]
  },
  {
   "cell_type": "markdown",
   "id": "e08a8f0b",
   "metadata": {},
   "source": [
    "### Characterizing Model Performance on the Testing Data\n",
    "- Displays performance metrics for accuracy, sensitivity, and specificity to evaluate performance of a binary classification"
   ]
  },
  {
   "cell_type": "code",
   "execution_count": 15,
   "id": "d473972a",
   "metadata": {},
   "outputs": [
    {
     "data": {
      "image/png": "[encoded data removed]",
      "text/plain": [
       "<Figure size 576x432 with 1 Axes>"
      ]
     },
     "metadata": {
      "needs_background": "light"
     },
     "output_type": "display_data"
    },
    {
     "name": "stdout",
     "output_type": "stream",
     "text": [
      "ACC: 0.9473684210526315\n",
      "Sensitivity (TPR): 0.9047619047619048\n",
      "Specificity (TNR): 0.9722222222222222\n"
     ]
    }
   ],
   "source": [
    "# Accuracy\n",
    "acc = accuracy_score(y_test, test_preds)\n",
    "\n",
    "# Confusion matrix\n",
    "cm = confusion_matrix(y_test, test_preds)\n",
    "\n",
    "# TPR = TP / (TP + FN) is\n",
    "TPR = cm[1,1] / (cm[1,1] + cm[1,0])\n",
    "\n",
    "# TNR = TN / (TN + FP)\n",
    "TNR = cm[0,0] / (cm[0,0] + cm[0,1])\n",
    "\n",
    "# A confusion matrix heatmap\n",
    "plt.figure(figsize=(8, 6))\n",
    "sns.heatmap(cm, annot=True, fmt='d', cmap='YlGn', cbar=False)\n",
    "plt.xlabel('Predicted Labels')\n",
    "plt.ylabel('True Labels')\n",
    "plt.title('Confusion Matrix')\n",
    "plt.show()\n",
    "\n",
    "print(\"ACC:\", acc)\n",
    "print(\"Sensitivity (TPR):\", TPR)\n",
    "print(\"Specificity (TNR):\", TNR)"
   ]
  },
  {
   "cell_type": "markdown",
   "id": "50a7b6a7",
   "metadata": {},
   "source": [
    "### Feature Importance for KNN (K-neighbors = 13)\n",
    "- Wanted to find which feature was most relative\n",
    "- Identifying highly influential features is crucial in healthcare decision-making, as it enables the healthcare system to patient outcomes"
   ]
  },
  {
   "cell_type": "code",
   "execution_count": 16,
   "id": "031caef0",
   "metadata": {},
   "outputs": [
    {
     "name": "stdout",
     "output_type": "stream",
     "text": [
      "             Feature Name  Importance\n",
      "0     concave points_mean      0.0392\n",
      "1          concavity_mean      0.0263\n",
      "2            texture_mean      0.0248\n",
      "3             radius_mean      0.0082\n",
      "4          perimeter_mean      0.0072\n",
      "5               area_mean      0.0064\n",
      "6  fractal_dimension_mean      0.0041\n",
      "7         smoothness_mean     -0.0010\n",
      "8           symmetry_mean     -0.0055\n",
      "9        compactness_mean     -0.0080\n"
     ]
    }
   ],
   "source": [
    "# KNN classifier with the best k value\n",
    "knn_model = KNeighborsClassifier(n_neighbors=k_best)\n",
    "\n",
    "# Fit the KNN model on the training data\n",
    "knn_model.fit(X_train_scaled, y_train)\n",
    "\n",
    "# Calculate feature importances using permutation importance\n",
    "permutation_importances = permutation_importance(knn_model, X_test_scaled, y_test, n_repeats=30, random_state=42)\n",
    "\n",
    "# Get the importance scores and feature names\n",
    "importance_scores = permutation_importances.importances_mean\n",
    "feature_names = X.columns\n",
    "\n",
    "# Create a list of (feature, importance) pairs\n",
    "importance_pairs = list(zip(feature_names, importance_scores))\n",
    "importance_pairs_sorted = sorted(importance_pairs, key=lambda x: x[1], reverse=True)\n",
    "\n",
    "# Create a DataFrame from the sorted descending list\n",
    "importance_df = pd.DataFrame(importance_pairs_sorted, columns=['Feature Name', 'Importance'])\n",
    "\n",
    "# Print the DataFrame\n",
    "importance_df['Importance'] = importance_df['Importance'].round(4)\n",
    "print(importance_df)"
   ]
  },
  {
   "cell_type": "markdown",
   "id": "efe38a4e",
   "metadata": {},
   "source": [
    "### Precision-Recall Curve summarizing model performance on both the training and testing data (KNN)\n",
    "- A good diagnostic tool\n",
    "- Precision tells you how many of the predicted malignant cases are truly malignant\n",
    "- Recall indicates how many of the actual malignant cases were correctly identified"
   ]
  },
  {
   "cell_type": "code",
   "execution_count": 17,
   "id": "f2896dbf",
   "metadata": {},
   "outputs": [
    {
     "data": {
      "image/png": "[encoded data removed]",
      "text/plain": [
       "<Figure size 720x432 with 1 Axes>"
      ]
     },
     "metadata": {
      "needs_background": "light"
     },
     "output_type": "display_data"
    },
    {
     "data": {
      "image/png": "[encoded data removed]",
      "text/plain": [
       "<Figure size 720x432 with 1 Axes>"
      ]
     },
     "metadata": {
      "needs_background": "light"
     },
     "output_type": "display_data"
    }
   ],
   "source": [
    "# Calculate precision-recall curve and for training data\n",
    "train_precision, train_recall, train_thresholds = precision_recall_curve(y_train, knn_model.predict_proba(X_train_scaled)[:, 1])\n",
    "\n",
    "# Plot for training data\n",
    "plt.figure(figsize=(10, 6))\n",
    "plt.plot(train_recall, train_precision, color='red', lw = 1.5)\n",
    "plt.xlabel('Recall (Sensitivity)')\n",
    "plt.ylabel('Precision (PPV)')\n",
    "plt.title('Precision-Recall Curve (Training Data)')\n",
    "plt.grid(True)\n",
    "plt.show()\n",
    "\n",
    "# Same for testing data\n",
    "test_precision, test_recall, test_thresholds = precision_recall_curve(y_test, knn_model.predict_proba(X_test_scaled)[:, 1])\n",
    "\n",
    "# Plot for testing data\n",
    "plt.figure(figsize=(10, 6))\n",
    "plt.plot(test_recall, test_precision, lw = 1.5)\n",
    "plt.xlabel('Recall (Sensitivity)')\n",
    "plt.ylabel('Precision (PPV)')\n",
    "plt.title('Precision-Recall Curve (Testing Data)')\n",
    "plt.grid(True)\n",
    "plt.show()"
   ]
  },
  {
   "cell_type": "markdown",
   "id": "9c96c83f",
   "metadata": {},
   "source": [
    "# <font style=\"color: red\">(Model 2, Naïve Bayes Classifier)</font>\n",
    "Why Naïve Bayes Classifier for this?\n",
    "1. Simple and efficient classification\n",
    "2. Handles categorical data (using Gaussian Naïve Bayes for continuous features)\n",
    "3. There is a low risk of overitting\n",
    "\n",
    "\n",
    "### Split Data Into Training and Testing Set \n",
    "1. Holding back 30% for testing\n",
    "2. Setting the random state to 42\n",
    "3. Features are the mean values\n",
    "4. Target is the diagnosis"
   ]
  },
  {
   "cell_type": "code",
   "execution_count": 18,
   "id": "56e8e9b6",
   "metadata": {},
   "outputs": [
    {
     "data": {
      "text/html": [
       "<div>\n",
       "<style scoped>\n",
       "    .dataframe tbody tr th:only-of-type {\n",
       "        vertical-align: middle;\n",
       "    }\n",
       "\n",
       "    .dataframe tbody tr th {\n",
       "        vertical-align: top;\n",
       "    }\n",
       "\n",
       "    .dataframe thead th {\n",
       "        text-align: right;\n",
       "    }\n",
       "</style>\n",
       "<table border=\"1\" class=\"dataframe\">\n",
       "  <thead>\n",
       "    <tr style=\"text-align: right;\">\n",
       "      <th></th>\n",
       "      <th>radius_mean</th>\n",
       "      <th>texture_mean</th>\n",
       "      <th>perimeter_mean</th>\n",
       "      <th>area_mean</th>\n",
       "      <th>smoothness_mean</th>\n",
       "      <th>compactness_mean</th>\n",
       "      <th>concavity_mean</th>\n",
       "      <th>concave points_mean</th>\n",
       "      <th>symmetry_mean</th>\n",
       "      <th>fractal_dimension_mean</th>\n",
       "    </tr>\n",
       "  </thead>\n",
       "  <tbody>\n",
       "    <tr>\n",
       "      <th>149</th>\n",
       "      <td>13.740</td>\n",
       "      <td>17.91</td>\n",
       "      <td>88.12</td>\n",
       "      <td>585.0</td>\n",
       "      <td>0.07944</td>\n",
       "      <td>0.06376</td>\n",
       "      <td>0.02881</td>\n",
       "      <td>0.01329</td>\n",
       "      <td>0.1473</td>\n",
       "      <td>0.05580</td>\n",
       "    </tr>\n",
       "    <tr>\n",
       "      <th>124</th>\n",
       "      <td>13.370</td>\n",
       "      <td>16.39</td>\n",
       "      <td>86.10</td>\n",
       "      <td>553.5</td>\n",
       "      <td>0.07115</td>\n",
       "      <td>0.07325</td>\n",
       "      <td>0.08092</td>\n",
       "      <td>0.02800</td>\n",
       "      <td>0.1422</td>\n",
       "      <td>0.05823</td>\n",
       "    </tr>\n",
       "    <tr>\n",
       "      <th>421</th>\n",
       "      <td>14.690</td>\n",
       "      <td>13.98</td>\n",
       "      <td>98.22</td>\n",
       "      <td>656.1</td>\n",
       "      <td>0.10310</td>\n",
       "      <td>0.18360</td>\n",
       "      <td>0.14500</td>\n",
       "      <td>0.06300</td>\n",
       "      <td>0.2086</td>\n",
       "      <td>0.07406</td>\n",
       "    </tr>\n",
       "    <tr>\n",
       "      <th>195</th>\n",
       "      <td>12.910</td>\n",
       "      <td>16.33</td>\n",
       "      <td>82.53</td>\n",
       "      <td>516.4</td>\n",
       "      <td>0.07941</td>\n",
       "      <td>0.05366</td>\n",
       "      <td>0.03873</td>\n",
       "      <td>0.02377</td>\n",
       "      <td>0.1829</td>\n",
       "      <td>0.05667</td>\n",
       "    </tr>\n",
       "    <tr>\n",
       "      <th>545</th>\n",
       "      <td>13.620</td>\n",
       "      <td>23.23</td>\n",
       "      <td>87.19</td>\n",
       "      <td>573.2</td>\n",
       "      <td>0.09246</td>\n",
       "      <td>0.06747</td>\n",
       "      <td>0.02974</td>\n",
       "      <td>0.02443</td>\n",
       "      <td>0.1664</td>\n",
       "      <td>0.05801</td>\n",
       "    </tr>\n",
       "    <tr>\n",
       "      <th>...</th>\n",
       "      <td>...</td>\n",
       "      <td>...</td>\n",
       "      <td>...</td>\n",
       "      <td>...</td>\n",
       "      <td>...</td>\n",
       "      <td>...</td>\n",
       "      <td>...</td>\n",
       "      <td>...</td>\n",
       "      <td>...</td>\n",
       "      <td>...</td>\n",
       "    </tr>\n",
       "    <tr>\n",
       "      <th>71</th>\n",
       "      <td>8.888</td>\n",
       "      <td>14.64</td>\n",
       "      <td>58.79</td>\n",
       "      <td>244.0</td>\n",
       "      <td>0.09783</td>\n",
       "      <td>0.15310</td>\n",
       "      <td>0.08606</td>\n",
       "      <td>0.02872</td>\n",
       "      <td>0.1902</td>\n",
       "      <td>0.08980</td>\n",
       "    </tr>\n",
       "    <tr>\n",
       "      <th>106</th>\n",
       "      <td>11.640</td>\n",
       "      <td>18.33</td>\n",
       "      <td>75.17</td>\n",
       "      <td>412.5</td>\n",
       "      <td>0.11420</td>\n",
       "      <td>0.10170</td>\n",
       "      <td>0.07070</td>\n",
       "      <td>0.03485</td>\n",
       "      <td>0.1801</td>\n",
       "      <td>0.06520</td>\n",
       "    </tr>\n",
       "    <tr>\n",
       "      <th>270</th>\n",
       "      <td>14.290</td>\n",
       "      <td>16.82</td>\n",
       "      <td>90.30</td>\n",
       "      <td>632.6</td>\n",
       "      <td>0.06429</td>\n",
       "      <td>0.02675</td>\n",
       "      <td>0.00725</td>\n",
       "      <td>0.00625</td>\n",
       "      <td>0.1508</td>\n",
       "      <td>0.05376</td>\n",
       "    </tr>\n",
       "    <tr>\n",
       "      <th>435</th>\n",
       "      <td>13.980</td>\n",
       "      <td>19.62</td>\n",
       "      <td>91.12</td>\n",
       "      <td>599.5</td>\n",
       "      <td>0.10600</td>\n",
       "      <td>0.11330</td>\n",
       "      <td>0.11260</td>\n",
       "      <td>0.06463</td>\n",
       "      <td>0.1669</td>\n",
       "      <td>0.06544</td>\n",
       "    </tr>\n",
       "    <tr>\n",
       "      <th>102</th>\n",
       "      <td>12.180</td>\n",
       "      <td>20.52</td>\n",
       "      <td>77.22</td>\n",
       "      <td>458.7</td>\n",
       "      <td>0.08013</td>\n",
       "      <td>0.04038</td>\n",
       "      <td>0.02383</td>\n",
       "      <td>0.01770</td>\n",
       "      <td>0.1739</td>\n",
       "      <td>0.05677</td>\n",
       "    </tr>\n",
       "  </tbody>\n",
       "</table>\n",
       "<p>398 rows × 10 columns</p>\n",
       "</div>"
      ],
      "text/plain": [
       "     radius_mean  texture_mean  perimeter_mean  area_mean  smoothness_mean  \\\n",
       "149       13.740         17.91           88.12      585.0          0.07944   \n",
       "124       13.370         16.39           86.10      553.5          0.07115   \n",
       "421       14.690         13.98           98.22      656.1          0.10310   \n",
       "195       12.910         16.33           82.53      516.4          0.07941   \n",
       "545       13.620         23.23           87.19      573.2          0.09246   \n",
       "..           ...           ...             ...        ...              ...   \n",
       "71         8.888         14.64           58.79      244.0          0.09783   \n",
       "106       11.640         18.33           75.17      412.5          0.11420   \n",
       "270       14.290         16.82           90.30      632.6          0.06429   \n",
       "435       13.980         19.62           91.12      599.5          0.10600   \n",
       "102       12.180         20.52           77.22      458.7          0.08013   \n",
       "\n",
       "     compactness_mean  concavity_mean  concave points_mean  symmetry_mean  \\\n",
       "149           0.06376         0.02881              0.01329         0.1473   \n",
       "124           0.07325         0.08092              0.02800         0.1422   \n",
       "421           0.18360         0.14500              0.06300         0.2086   \n",
       "195           0.05366         0.03873              0.02377         0.1829   \n",
       "545           0.06747         0.02974              0.02443         0.1664   \n",
       "..                ...             ...                  ...            ...   \n",
       "71            0.15310         0.08606              0.02872         0.1902   \n",
       "106           0.10170         0.07070              0.03485         0.1801   \n",
       "270           0.02675         0.00725              0.00625         0.1508   \n",
       "435           0.11330         0.11260              0.06463         0.1669   \n",
       "102           0.04038         0.02383              0.01770         0.1739   \n",
       "\n",
       "     fractal_dimension_mean  \n",
       "149                 0.05580  \n",
       "124                 0.05823  \n",
       "421                 0.07406  \n",
       "195                 0.05667  \n",
       "545                 0.05801  \n",
       "..                      ...  \n",
       "71                  0.08980  \n",
       "106                 0.06520  \n",
       "270                 0.05376  \n",
       "435                 0.06544  \n",
       "102                 0.05677  \n",
       "\n",
       "[398 rows x 10 columns]"
      ]
     },
     "execution_count": 18,
     "metadata": {},
     "output_type": "execute_result"
    }
   ],
   "source": [
    "# Features (independent variables) for the dataset\n",
    "X = df[['radius_mean', 'texture_mean', 'perimeter_mean', 'area_mean', 'smoothness_mean', \n",
    "        'compactness_mean', 'concavity_mean', 'concave points_mean', 'symmetry_mean', 'fractal_dimension_mean']]\n",
    "\n",
    "# Target variable (dependent variable)\n",
    "y = df['diagnosis']\n",
    "\n",
    "# Split the data into training and testing sets, with 70% of the data for training and 30% for testing\n",
    "X_train_continuous, X_test_continuous, y_train, y_test = train_test_split(X, y, test_size=0.3, random_state=42)\n",
    "X_train_continuous"
   ]
  },
  {
   "cell_type": "markdown",
   "id": "76be92bb",
   "metadata": {},
   "source": [
    "###  GaussianNB estimator\n",
    "- Using GaussianNB as my feature values are continuous."
   ]
  },
  {
   "cell_type": "code",
   "execution_count": 19,
   "id": "8fe2abf4",
   "metadata": {},
   "outputs": [
    {
     "data": {
      "text/html": [
       "<style>#sk-container-id-1 {color: black;}#sk-container-id-1 pre{padding: 0;}#sk-container-id-1 div.sk-toggleable {background-color: white;}#sk-container-id-1 label.sk-toggleable__label {cursor: pointer;display: block;width: 100%;margin-bottom: 0;padding: 0.3em;box-sizing: border-box;text-align: center;}#sk-container-id-1 label.sk-toggleable__label-arrow:before {content: \"▸\";float: left;margin-right: 0.25em;color: #696969;}#sk-container-id-1 label.sk-toggleable__label-arrow:hover:before {color: black;}#sk-container-id-1 div.sk-estimator:hover label.sk-toggleable__label-arrow:before {color: black;}#sk-container-id-1 div.sk-toggleable__content {max-height: 0;max-width: 0;overflow: hidden;text-align: left;background-color: #f0f8ff;}#sk-container-id-1 div.sk-toggleable__content pre {margin: 0.2em;color: black;border-radius: 0.25em;background-color: #f0f8ff;}#sk-container-id-1 input.sk-toggleable__control:checked~div.sk-toggleable__content {max-height: 200px;max-width: 100%;overflow: auto;}#sk-container-id-1 input.sk-toggleable__control:checked~label.sk-toggleable__label-arrow:before {content: \"▾\";}#sk-container-id-1 div.sk-estimator input.sk-toggleable__control:checked~label.sk-toggleable__label {background-color: #d4ebff;}#sk-container-id-1 div.sk-label input.sk-toggleable__control:checked~label.sk-toggleable__label {background-color: #d4ebff;}#sk-container-id-1 input.sk-hidden--visually {border: 0;clip: rect(1px 1px 1px 1px);clip: rect(1px, 1px, 1px, 1px);height: 1px;margin: -1px;overflow: hidden;padding: 0;position: absolute;width: 1px;}#sk-container-id-1 div.sk-estimator {font-family: monospace;background-color: #f0f8ff;border: 1px dotted black;border-radius: 0.25em;box-sizing: border-box;margin-bottom: 0.5em;}#sk-container-id-1 div.sk-estimator:hover {background-color: #d4ebff;}#sk-container-id-1 div.sk-parallel-item::after {content: \"\";width: 100%;border-bottom: 1px solid gray;flex-grow: 1;}#sk-container-id-1 div.sk-label:hover label.sk-toggleable__label {background-color: #d4ebff;}#sk-container-id-1 div.sk-serial::before {content: \"\";position: absolute;border-left: 1px solid gray;box-sizing: border-box;top: 0;bottom: 0;left: 50%;z-index: 0;}#sk-container-id-1 div.sk-serial {display: flex;flex-direction: column;align-items: center;background-color: white;padding-right: 0.2em;padding-left: 0.2em;position: relative;}#sk-container-id-1 div.sk-item {position: relative;z-index: 1;}#sk-container-id-1 div.sk-parallel {display: flex;align-items: stretch;justify-content: center;background-color: white;position: relative;}#sk-container-id-1 div.sk-item::before, #sk-container-id-1 div.sk-parallel-item::before {content: \"\";position: absolute;border-left: 1px solid gray;box-sizing: border-box;top: 0;bottom: 0;left: 50%;z-index: -1;}#sk-container-id-1 div.sk-parallel-item {display: flex;flex-direction: column;z-index: 1;position: relative;background-color: white;}#sk-container-id-1 div.sk-parallel-item:first-child::after {align-self: flex-end;width: 50%;}#sk-container-id-1 div.sk-parallel-item:last-child::after {align-self: flex-start;width: 50%;}#sk-container-id-1 div.sk-parallel-item:only-child::after {width: 0;}#sk-container-id-1 div.sk-dashed-wrapped {border: 1px dashed gray;margin: 0 0.4em 0.5em 0.4em;box-sizing: border-box;padding-bottom: 0.4em;background-color: white;}#sk-container-id-1 div.sk-label label {font-family: monospace;font-weight: bold;display: inline-block;line-height: 1.2em;}#sk-container-id-1 div.sk-label-container {text-align: center;}#sk-container-id-1 div.sk-container {/* jupyter's `normalize.less` sets `[hidden] { display: none; }` but bootstrap.min.css set `[hidden] { display: none !important; }` so we also need the `!important` here to be able to override the default hidden behavior on the sphinx rendered scikit-learn.org. See: https://github.com/scikit-learn/scikit-learn/issues/21755 */display: inline-block !important;position: relative;}#sk-container-id-1 div.sk-text-repr-fallback {display: none;}</style><div id=\"sk-container-id-1\" class=\"sk-top-container\"><div class=\"sk-text-repr-fallback\"><pre>GaussianNB()</pre><b>In a Jupyter environment, please rerun this cell to show the HTML representation or trust the notebook. <br />On GitHub, the HTML representation is unable to render, please try loading this page with nbviewer.org.</b></div><div class=\"sk-container\" hidden><div class=\"sk-item\"><div class=\"sk-estimator sk-toggleable\"><input class=\"sk-toggleable__control sk-hidden--visually\" id=\"sk-estimator-id-1\" type=\"checkbox\" checked><label for=\"sk-estimator-id-1\" class=\"sk-toggleable__label sk-toggleable__label-arrow\">GaussianNB</label><div class=\"sk-toggleable__content\"><pre>GaussianNB()</pre></div></div></div></div></div>"
      ],
      "text/plain": [
       "GaussianNB()"
      ]
     },
     "execution_count": 19,
     "metadata": {},
     "output_type": "execute_result"
    }
   ],
   "source": [
    "# Create Gaussian Naïve Bayes classifier.\n",
    "gnb = GaussianNB()\n",
    "\n",
    "# Fit the GNB classifier to the continuous feature to training set.\n",
    "gnb.fit(X_train_continuous, y_train)"
   ]
  },
  {
   "cell_type": "code",
   "execution_count": 20,
   "id": "2ed855ea",
   "metadata": {},
   "outputs": [
    {
     "data": {
      "text/plain": [
       "204    0\n",
       "70     1\n",
       "131    1\n",
       "431    0\n",
       "540    0\n",
       "      ..\n",
       "69     0\n",
       "542    0\n",
       "176    0\n",
       "501    1\n",
       "247    0\n",
       "Name: diagnosis, Length: 171, dtype: int64"
      ]
     },
     "execution_count": 20,
     "metadata": {},
     "output_type": "execute_result"
    }
   ],
   "source": [
    "# Use Gaussian Naïve Bayes (GNB) classifier to make prediction\n",
    "y_pred_continuous = gnb.predict(X_test_continuous)\n",
    "y_test"
   ]
  },
  {
   "cell_type": "markdown",
   "id": "f0d09bc1",
   "metadata": {},
   "source": [
    "### Characterizing Model Performance on the Testing Data\n",
    "- Displays performance metrics"
   ]
  },
  {
   "cell_type": "code",
   "execution_count": 21,
   "id": "4900147a",
   "metadata": {},
   "outputs": [
    {
     "name": "stdout",
     "output_type": "stream",
     "text": [
      "Sensitivity (TPR) =  0.873015873015873\n",
      "Specifity (TNR) = 0.9629629629629629\n",
      "  \n",
      "              precision    recall  f1-score   support\n",
      "\n",
      "           0       0.93      0.96      0.95       108\n",
      "           1       0.93      0.87      0.90        63\n",
      "\n",
      "    accuracy                           0.93       171\n",
      "   macro avg       0.93      0.92      0.92       171\n",
      "weighted avg       0.93      0.93      0.93       171\n",
      "\n"
     ]
    }
   ],
   "source": [
    "# Confusion Matrix\n",
    "cm = confusion_matrix(y_test, y_pred_continuous)\n",
    "\n",
    "# Sensitivity = TPR = TP / (TP + FN)\n",
    "sensitivity = cm[1,1] / (cm[1,1] + cm[1,0])\n",
    "print('Sensitivity (TPR) = ', sensitivity)\n",
    "\n",
    "#Specifity = TNR = TN / (TN + FP)\n",
    "specifity = cm[0,0] / (cm[0,0] + cm[0,1])\n",
    "print('Specifity (TNR) =', specifity)\n",
    "print('  ')\n",
    "# Prints the precision, recall, f1-score, accuracy\n",
    "print(classification_report(y_test, y_pred_continuous))"
   ]
  },
  {
   "cell_type": "code",
   "execution_count": 22,
   "id": "cc090058",
   "metadata": {},
   "outputs": [
    {
     "data": {
      "image/png": "[encoded data removed]",
      "text/plain": [
       "<Figure size 576x432 with 1 Axes>"
      ]
     },
     "metadata": {
      "needs_background": "light"
     },
     "output_type": "display_data"
    }
   ],
   "source": [
    "# Print CM heatmap\n",
    "plt.figure(figsize=(8, 6))\n",
    "sns.heatmap(cm, annot=True, fmt='d', cmap='Reds', cbar=False)\n",
    "plt.xlabel('Predicted Labels')\n",
    "plt.ylabel('True Labels')\n",
    "plt.title('Confusion Matrix')\n",
    "plt.show()"
   ]
  },
  {
   "cell_type": "markdown",
   "id": "58312c17",
   "metadata": {},
   "source": [
    "### ROC Curve summarizing model performance\n",
    "- A comprehensive performance of the classifier's performance.\n",
    "- Choose to include this as it distinguishes between the two classes (malignant and benign) by varying the threshold for classifying instances (helps with TPR / FPR)|"
   ]
  },
  {
   "cell_type": "code",
   "execution_count": 23,
   "id": "1d406c2a",
   "metadata": {},
   "outputs": [
    {
     "data": {
      "text/plain": [
       "Text(0.5, 1.0, 'Testing Data, AUC = 0.9896')"
      ]
     },
     "execution_count": 23,
     "metadata": {},
     "output_type": "execute_result"
    },
    {
     "data": {
      "image/png": "[encoded data removed]",
      "text/plain": [
       "<Figure size 720x432 with 1 Axes>"
      ]
     },
     "metadata": {
      "needs_background": "light"
     },
     "output_type": "display_data"
    },
    {
     "data": {
      "image/png": "[encoded data removed]",
      "text/plain": [
       "<Figure size 720x432 with 1 Axes>"
      ]
     },
     "metadata": {
      "needs_background": "light"
     },
     "output_type": "display_data"
    }
   ],
   "source": [
    "# Training Data\n",
    "# Predict probabilities on the training data\n",
    "y_train_prob = gnb.predict_proba(X_train_continuous)[:, 1]\n",
    "FPR, TPR, thresholds = roc_curve(y_train, y_train_prob)\n",
    "\n",
    "Y = TPR # True Positive Rate\n",
    "X = FPR # False Positive Rate\n",
    "\n",
    "fig2, ax2 = plt.subplots(1, 1, figsize=(10,6))\n",
    "\n",
    "ax2.step(FPR, TPR, linewidth= 1.5, color = 'red')\n",
    "\n",
    "# ROC curve\n",
    "ax2.plot([0,1], [0,1], '--', color = 'black')\n",
    "\n",
    "\n",
    "fs = 14\n",
    "ax2.set_xlabel('1 - Specifity = 1 - TNR = FPR', fontsize=fs)\n",
    "ax2.set_ylabel('Sensitivity = TPR', fontsize=fs)\n",
    "ax2.tick_params(axis='both', labelsize=fs)\n",
    "\n",
    "AUC = np.trapz(TPR, FPR)\n",
    "AUC # Area Under Curve\n",
    "ax2.set_title(f'Training Data, AUC = {AUC:.4f}', fontsize=fs)\n",
    "\n",
    "# Testing Data\n",
    "# Predict probabilities on the testing data\n",
    "y_test_prob = gnb.predict_proba(X_test_continuous)[:, 1]\n",
    "FPR, TPR, thresholds = roc_curve(y_test, y_test_prob)\n",
    "\n",
    "Y = TPR # True Positive Rate\n",
    "X = FPR # False Positive Rate\n",
    "\n",
    "fig1, ax1 = plt.subplots(1, 1, figsize=(10,6))\n",
    "\n",
    "ax1.step(FPR, TPR, linewidth= 1.5)\n",
    "\n",
    "# ROC curve\n",
    "ax1.plot([0,1], [0,1], '--', color = 'black')\n",
    "\n",
    "\n",
    "fs = 14\n",
    "ax1.set_xlabel('1 - Specifity = 1 - TNR = FPR', fontsize=fs)\n",
    "ax1.set_ylabel('Sensitivity = TPR', fontsize=fs)\n",
    "ax1.tick_params(axis='both', labelsize=fs)\n",
    "\n",
    "AUC = np.trapz(TPR, FPR)\n",
    "AUC\n",
    "ax1.set_title(f'Testing Data, AUC = {AUC:.4f}', fontsize=fs)"
   ]
  },
  {
   "cell_type": "markdown",
   "id": "7638db82",
   "metadata": {},
   "source": [
    "### Precision-Recall Curve summarizing model performance on both the training and testing data (Naïve Bayes)"
   ]
  },
  {
   "cell_type": "code",
   "execution_count": 24,
   "id": "537ce5db",
   "metadata": {},
   "outputs": [
    {
     "data": {
      "text/plain": [
       "(0.0, 1.0)"
      ]
     },
     "execution_count": 24,
     "metadata": {},
     "output_type": "execute_result"
    },
    {
     "data": {
      "image/png": "[encoded data removed]",
      "text/plain": [
       "<Figure size 720x432 with 1 Axes>"
      ]
     },
     "metadata": {
      "needs_background": "light"
     },
     "output_type": "display_data"
    },
    {
     "data": {
      "image/png": "[encoded data removed]",
      "text/plain": [
       "<Figure size 720x432 with 1 Axes>"
      ]
     },
     "metadata": {
      "needs_background": "light"
     },
     "output_type": "display_data"
    }
   ],
   "source": [
    "# Plotting Precision-Recall Curve, Training Data using Naive Bayes\n",
    "precisions, recalls, thresholds = precision_recall_curve(y_train, y_train_prob)\n",
    "\n",
    "\n",
    "fig3, ax3 = plt.subplots(1, 1, figsize=(10,6))\n",
    "\n",
    "ax3.step(recalls, precisions, linewidth=1.5, color = 'red')\n",
    "ax3.grid()\n",
    "\n",
    "fs = 14\n",
    "ax3.set_xlabel('Recall (Sensitivity)', fontsize=fs)\n",
    "ax3.set_ylabel('Precision (PPV)', fontsize=fs)\n",
    "ax3.tick_params(axis='both', labelsize=fs)\n",
    "\n",
    "ax3.set_title('Precision-Recall Curve (Training Data)')\n",
    "ax3.set_ylim([0, 1])\n",
    "ax3.set_xlim([0, 1])\n",
    "\n",
    "# Plotting Precision-Recall Curve, Testing Data using Naive Bayes\n",
    "precisions, recalls, thresholds = precision_recall_curve(y_test, y_test_prob)\n",
    "\n",
    "\n",
    "fig3, ax3 = plt.subplots(1, 1, figsize=(10,6))\n",
    "\n",
    "ax3.step(recalls, precisions, linewidth=1.5)\n",
    "ax3.grid()\n",
    "\n",
    "ax3.set_xlabel('Recall (Sensitivity)', fontsize=fs)\n",
    "ax3.set_ylabel('Precision (PPV)', fontsize=fs)\n",
    "ax3.tick_params(axis='both', labelsize=fs)\n",
    "\n",
    "ax3.set_title('Precision-Recall Curve (Testing Data)')\n",
    "ax3.set_ylim([0, 1])\n",
    "ax3.set_xlim([0, 1])"
   ]
  },
  {
   "cell_type": "markdown",
   "id": "f962c2cb",
   "metadata": {},
   "source": [
    "# <font style=\"color: red\">(Model 3, Random Forest)</font>\n",
    "Why Random Forest for this?\n",
    "- Easily interpretable and easy to use\n",
    "- Provides measure of feature importance\n",
    "- High dimensionality\n",
    "- Handles noisy data well"
   ]
  },
  {
   "cell_type": "code",
   "execution_count": 25,
   "id": "80b10ddd",
   "metadata": {},
   "outputs": [
    {
     "data": {
      "text/plain": [
       "[357, 212]"
      ]
     },
     "execution_count": 25,
     "metadata": {},
     "output_type": "execute_result"
    }
   ],
   "source": [
    "diagnosis_categories = list(df['diagnosis'].value_counts())\n",
    "diagnosis_categories"
   ]
  },
  {
   "cell_type": "markdown",
   "id": "d42479b3",
   "metadata": {},
   "source": [
    "### Split Data Into Training and Testing Set\n",
    "1. Holding back 30% for testing\n",
    "2. Setting the random state to 42\n",
    "3. Features are the mean values\n",
    "4. Target is the diagnosis"
   ]
  },
  {
   "cell_type": "code",
   "execution_count": 26,
   "id": "33dac473",
   "metadata": {},
   "outputs": [
    {
     "data": {
      "text/html": [
       "<div>\n",
       "<style scoped>\n",
       "    .dataframe tbody tr th:only-of-type {\n",
       "        vertical-align: middle;\n",
       "    }\n",
       "\n",
       "    .dataframe tbody tr th {\n",
       "        vertical-align: top;\n",
       "    }\n",
       "\n",
       "    .dataframe thead th {\n",
       "        text-align: right;\n",
       "    }\n",
       "</style>\n",
       "<table border=\"1\" class=\"dataframe\">\n",
       "  <thead>\n",
       "    <tr style=\"text-align: right;\">\n",
       "      <th></th>\n",
       "      <th>radius_mean</th>\n",
       "      <th>texture_mean</th>\n",
       "      <th>perimeter_mean</th>\n",
       "      <th>area_mean</th>\n",
       "      <th>smoothness_mean</th>\n",
       "      <th>compactness_mean</th>\n",
       "      <th>concavity_mean</th>\n",
       "      <th>concave points_mean</th>\n",
       "      <th>symmetry_mean</th>\n",
       "      <th>fractal_dimension_mean</th>\n",
       "    </tr>\n",
       "  </thead>\n",
       "  <tbody>\n",
       "    <tr>\n",
       "      <th>149</th>\n",
       "      <td>13.740</td>\n",
       "      <td>17.91</td>\n",
       "      <td>88.12</td>\n",
       "      <td>585.0</td>\n",
       "      <td>0.07944</td>\n",
       "      <td>0.06376</td>\n",
       "      <td>0.02881</td>\n",
       "      <td>0.01329</td>\n",
       "      <td>0.1473</td>\n",
       "      <td>0.05580</td>\n",
       "    </tr>\n",
       "    <tr>\n",
       "      <th>124</th>\n",
       "      <td>13.370</td>\n",
       "      <td>16.39</td>\n",
       "      <td>86.10</td>\n",
       "      <td>553.5</td>\n",
       "      <td>0.07115</td>\n",
       "      <td>0.07325</td>\n",
       "      <td>0.08092</td>\n",
       "      <td>0.02800</td>\n",
       "      <td>0.1422</td>\n",
       "      <td>0.05823</td>\n",
       "    </tr>\n",
       "    <tr>\n",
       "      <th>421</th>\n",
       "      <td>14.690</td>\n",
       "      <td>13.98</td>\n",
       "      <td>98.22</td>\n",
       "      <td>656.1</td>\n",
       "      <td>0.10310</td>\n",
       "      <td>0.18360</td>\n",
       "      <td>0.14500</td>\n",
       "      <td>0.06300</td>\n",
       "      <td>0.2086</td>\n",
       "      <td>0.07406</td>\n",
       "    </tr>\n",
       "    <tr>\n",
       "      <th>195</th>\n",
       "      <td>12.910</td>\n",
       "      <td>16.33</td>\n",
       "      <td>82.53</td>\n",
       "      <td>516.4</td>\n",
       "      <td>0.07941</td>\n",
       "      <td>0.05366</td>\n",
       "      <td>0.03873</td>\n",
       "      <td>0.02377</td>\n",
       "      <td>0.1829</td>\n",
       "      <td>0.05667</td>\n",
       "    </tr>\n",
       "    <tr>\n",
       "      <th>545</th>\n",
       "      <td>13.620</td>\n",
       "      <td>23.23</td>\n",
       "      <td>87.19</td>\n",
       "      <td>573.2</td>\n",
       "      <td>0.09246</td>\n",
       "      <td>0.06747</td>\n",
       "      <td>0.02974</td>\n",
       "      <td>0.02443</td>\n",
       "      <td>0.1664</td>\n",
       "      <td>0.05801</td>\n",
       "    </tr>\n",
       "    <tr>\n",
       "      <th>...</th>\n",
       "      <td>...</td>\n",
       "      <td>...</td>\n",
       "      <td>...</td>\n",
       "      <td>...</td>\n",
       "      <td>...</td>\n",
       "      <td>...</td>\n",
       "      <td>...</td>\n",
       "      <td>...</td>\n",
       "      <td>...</td>\n",
       "      <td>...</td>\n",
       "    </tr>\n",
       "    <tr>\n",
       "      <th>71</th>\n",
       "      <td>8.888</td>\n",
       "      <td>14.64</td>\n",
       "      <td>58.79</td>\n",
       "      <td>244.0</td>\n",
       "      <td>0.09783</td>\n",
       "      <td>0.15310</td>\n",
       "      <td>0.08606</td>\n",
       "      <td>0.02872</td>\n",
       "      <td>0.1902</td>\n",
       "      <td>0.08980</td>\n",
       "    </tr>\n",
       "    <tr>\n",
       "      <th>106</th>\n",
       "      <td>11.640</td>\n",
       "      <td>18.33</td>\n",
       "      <td>75.17</td>\n",
       "      <td>412.5</td>\n",
       "      <td>0.11420</td>\n",
       "      <td>0.10170</td>\n",
       "      <td>0.07070</td>\n",
       "      <td>0.03485</td>\n",
       "      <td>0.1801</td>\n",
       "      <td>0.06520</td>\n",
       "    </tr>\n",
       "    <tr>\n",
       "      <th>270</th>\n",
       "      <td>14.290</td>\n",
       "      <td>16.82</td>\n",
       "      <td>90.30</td>\n",
       "      <td>632.6</td>\n",
       "      <td>0.06429</td>\n",
       "      <td>0.02675</td>\n",
       "      <td>0.00725</td>\n",
       "      <td>0.00625</td>\n",
       "      <td>0.1508</td>\n",
       "      <td>0.05376</td>\n",
       "    </tr>\n",
       "    <tr>\n",
       "      <th>435</th>\n",
       "      <td>13.980</td>\n",
       "      <td>19.62</td>\n",
       "      <td>91.12</td>\n",
       "      <td>599.5</td>\n",
       "      <td>0.10600</td>\n",
       "      <td>0.11330</td>\n",
       "      <td>0.11260</td>\n",
       "      <td>0.06463</td>\n",
       "      <td>0.1669</td>\n",
       "      <td>0.06544</td>\n",
       "    </tr>\n",
       "    <tr>\n",
       "      <th>102</th>\n",
       "      <td>12.180</td>\n",
       "      <td>20.52</td>\n",
       "      <td>77.22</td>\n",
       "      <td>458.7</td>\n",
       "      <td>0.08013</td>\n",
       "      <td>0.04038</td>\n",
       "      <td>0.02383</td>\n",
       "      <td>0.01770</td>\n",
       "      <td>0.1739</td>\n",
       "      <td>0.05677</td>\n",
       "    </tr>\n",
       "  </tbody>\n",
       "</table>\n",
       "<p>398 rows × 10 columns</p>\n",
       "</div>"
      ],
      "text/plain": [
       "     radius_mean  texture_mean  perimeter_mean  area_mean  smoothness_mean  \\\n",
       "149       13.740         17.91           88.12      585.0          0.07944   \n",
       "124       13.370         16.39           86.10      553.5          0.07115   \n",
       "421       14.690         13.98           98.22      656.1          0.10310   \n",
       "195       12.910         16.33           82.53      516.4          0.07941   \n",
       "545       13.620         23.23           87.19      573.2          0.09246   \n",
       "..           ...           ...             ...        ...              ...   \n",
       "71         8.888         14.64           58.79      244.0          0.09783   \n",
       "106       11.640         18.33           75.17      412.5          0.11420   \n",
       "270       14.290         16.82           90.30      632.6          0.06429   \n",
       "435       13.980         19.62           91.12      599.5          0.10600   \n",
       "102       12.180         20.52           77.22      458.7          0.08013   \n",
       "\n",
       "     compactness_mean  concavity_mean  concave points_mean  symmetry_mean  \\\n",
       "149           0.06376         0.02881              0.01329         0.1473   \n",
       "124           0.07325         0.08092              0.02800         0.1422   \n",
       "421           0.18360         0.14500              0.06300         0.2086   \n",
       "195           0.05366         0.03873              0.02377         0.1829   \n",
       "545           0.06747         0.02974              0.02443         0.1664   \n",
       "..                ...             ...                  ...            ...   \n",
       "71            0.15310         0.08606              0.02872         0.1902   \n",
       "106           0.10170         0.07070              0.03485         0.1801   \n",
       "270           0.02675         0.00725              0.00625         0.1508   \n",
       "435           0.11330         0.11260              0.06463         0.1669   \n",
       "102           0.04038         0.02383              0.01770         0.1739   \n",
       "\n",
       "     fractal_dimension_mean  \n",
       "149                 0.05580  \n",
       "124                 0.05823  \n",
       "421                 0.07406  \n",
       "195                 0.05667  \n",
       "545                 0.05801  \n",
       "..                      ...  \n",
       "71                  0.08980  \n",
       "106                 0.06520  \n",
       "270                 0.05376  \n",
       "435                 0.06544  \n",
       "102                 0.05677  \n",
       "\n",
       "[398 rows x 10 columns]"
      ]
     },
     "execution_count": 26,
     "metadata": {},
     "output_type": "execute_result"
    }
   ],
   "source": [
    "# Features (independent variables) for the dataset\n",
    "X = df[['radius_mean', 'texture_mean', 'perimeter_mean', 'area_mean', 'smoothness_mean', \n",
    "        'compactness_mean', 'concavity_mean', 'concave points_mean', 'symmetry_mean', 'fractal_dimension_mean']]\n",
    "\n",
    "# Target variable (dependent variable)\n",
    "y = df['diagnosis']\n",
    "\n",
    "# Split the data into training and testing sets, with 70% of the data for training and 30% for testing\n",
    "\n",
    "X_train_rf, X_test_rf, y_train, y_test = train_test_split(X, y, test_size=0.3, random_state=42)\n",
    "X_train_rf"
   ]
  },
  {
   "cell_type": "markdown",
   "id": "08d62cab",
   "metadata": {},
   "source": [
    "### Creating the Random Forest Classifier"
   ]
  },
  {
   "cell_type": "code",
   "execution_count": 27,
   "id": "17b533ab",
   "metadata": {},
   "outputs": [],
   "source": [
    "# Create a Random Forest model\n",
    "rfc = RandomForestClassifier(random_state=42)\n",
    "rfc.fit(X_train_rf, y_train)\n",
    "\n",
    "# Predict and evaluate the Random Forest model\n",
    "y_pred = rfc.predict(X_test_rf)\n"
   ]
  },
  {
   "cell_type": "markdown",
   "id": "85c466fa",
   "metadata": {},
   "source": [
    "### Characterizing Model Performance on Random Forest (Testing Data)\n",
    "- Displays performance metrics"
   ]
  },
  {
   "cell_type": "code",
   "execution_count": 28,
   "id": "b3ee2056",
   "metadata": {},
   "outputs": [
    {
     "data": {
      "image/png": "[encoded data removed]",
      "text/plain": [
       "<Figure size 576x432 with 1 Axes>"
      ]
     },
     "metadata": {
      "needs_background": "light"
     },
     "output_type": "display_data"
    },
    {
     "name": "stdout",
     "output_type": "stream",
     "text": [
      "ACC on test set: 0.9473684210526315\n",
      "Sensitivity (TPR): 0.9365079365079365\n",
      "Specificity (TNR): 0.9537037037037037\n"
     ]
    }
   ],
   "source": [
    "# Accuracy\n",
    "acc = accuracy_score(y_test, y_pred)\n",
    "\n",
    "# Confusion matrix\n",
    "cm = confusion_matrix(y_test, y_pred)\n",
    "\n",
    "# TPR = TP / (TP + FN)\n",
    "TPR = cm[1,1] / (cm[1,1] + cm[1,0])\n",
    "\n",
    "# TNR = TN / (TN + FP)\n",
    "TNR = cm[0,0] / (cm[0,0] + cm[0,1])\n",
    "\n",
    "# A confusion matrix heatmap\n",
    "plt.figure(figsize=(8, 6))\n",
    "sns.heatmap(cm, annot=True, fmt='d', cmap='BuGn', cbar=False)\n",
    "plt.xlabel('Predicted Labels')\n",
    "plt.ylabel('True Labels')\n",
    "plt.title('Confusion Matrix')\n",
    "plt.show()\n",
    "\n",
    "print(\"ACC on test set:\", acc)\n",
    "print(\"Sensitivity (TPR):\", TPR)\n",
    "print(\"Specificity (TNR):\", TNR)"
   ]
  },
  {
   "cell_type": "markdown",
   "id": "d688290d",
   "metadata": {},
   "source": [
    "### Precision-Recall Curve summarizing model performance on both the training and testing data (Random Forest)"
   ]
  },
  {
   "cell_type": "code",
   "execution_count": 29,
   "id": "b644d1bf",
   "metadata": {},
   "outputs": [
    {
     "data": {
      "text/plain": [
       "(0.0, 1.0)"
      ]
     },
     "execution_count": 29,
     "metadata": {},
     "output_type": "execute_result"
    },
    {
     "data": {
      "image/png": "[encoded data removed]",
      "text/plain": [
       "<Figure size 720x432 with 1 Axes>"
      ]
     },
     "metadata": {
      "needs_background": "light"
     },
     "output_type": "display_data"
    },
    {
     "data": {
      "image/png": "[encoded data removed]",
      "text/plain": [
       "<Figure size 720x432 with 1 Axes>"
      ]
     },
     "metadata": {
      "needs_background": "light"
     },
     "output_type": "display_data"
    }
   ],
   "source": [
    "# Predict probabilities on the training data\n",
    "y_probas_train_rf = rfc.predict_proba(X_train_rf)\n",
    "\n",
    "# Calculate precision and recall values for the training data\n",
    "precision_rf, recall_rf, thresholds_rfs = precision_recall_curve(y_train, y_probas_train_rf[:, 1])\n",
    "\n",
    "# Precision-Recall curve plot for training data\n",
    "fig3, ax3 = plt.subplots(1, 1, figsize=(10,6))\n",
    "ax3.step(recall_rf, precision_rf, linewidth=1.5, color='red')\n",
    "ax3.grid()\n",
    "\n",
    "fs = 14\n",
    "ax3.set_xlabel('Recall (Sensitivity)', fontsize=fs)\n",
    "ax3.set_ylabel('Precision (PPV)', fontsize=fs)\n",
    "ax3.tick_params(axis='both', labelsize=fs)\n",
    "ax3.set_title('Precision-Recall Curve (Training Data)')\n",
    "ax3.set_ylim([0, 1])\n",
    "ax3.set_xlim([0, 1])\n",
    "\n",
    "# Predict probabilities on the testing data\n",
    "y_probas_test_rf = rfc.predict_proba(X_test_rf)\n",
    "\n",
    "# Calculate precision and recall values for the testing data\n",
    "precision_rf, recall_rf, thresholds_rf = precision_recall_curve(y_test, y_probas_test_rf[:, 1])\n",
    "\n",
    "# Precision-Recall curve plot for testing data\n",
    "fig5, ax5 = plt.subplots(1, 1, figsize=(10,6))\n",
    "ax5.step(recall_rf, precision_rf, linewidth=1.5)\n",
    "ax5.grid()\n",
    "\n",
    "fs = 14\n",
    "ax5.set_xlabel('Recall (Sensitivity)', fontsize=fs)\n",
    "ax5.set_ylabel('Precision (PPV)', fontsize=fs)\n",
    "ax5.tick_params(axis='both', labelsize=fs)\n",
    "ax5.set_title('Precision-Recall Curve (Testing Data)')\n",
    "ax5.set_ylim([0, 1])\n",
    "ax5.set_xlim([0, 1])"
   ]
  },
  {
   "cell_type": "code",
   "execution_count": 30,
   "id": "059fecc7",
   "metadata": {},
   "outputs": [
    {
     "data": {
      "text/plain": [
       "Text(0.5, 1.0, 'Testing Data, AUC = 0.9904')"
      ]
     },
     "execution_count": 30,
     "metadata": {},
     "output_type": "execute_result"
    },
    {
     "data": {
      "image/png": "[encoded data removed]",
      "text/plain": [
       "<Figure size 720x432 with 1 Axes>"
      ]
     },
     "metadata": {
      "needs_background": "light"
     },
     "output_type": "display_data"
    },
    {
     "data": {
      "image/png": "[encoded data removed]",
      "text/plain": [
       "<Figure size 720x432 with 1 Axes>"
      ]
     },
     "metadata": {
      "needs_background": "light"
     },
     "output_type": "display_data"
    }
   ],
   "source": [
    "# Predict probabilities on the training data\n",
    "y_pred_train_prob = rfc.predict_proba(X_train_rf)[:, 1]\n",
    "fpr, tpr, thresholds = roc_curve(y_train, y_pred_train_prob)\n",
    "XX = tpr\n",
    "Y = fpr\n",
    "# Calculate the AUC (Area Under the Curve)\n",
    "\n",
    "# Plot the ROC curve\n",
    "fig1, ax1 = plt.subplots(1, 1, figsize=(10,6))\n",
    "\n",
    "ax1.step(fpr, tpr, linewidth= 1.5, color = 'red')\n",
    "\n",
    "# ROC curve\n",
    "ax1.plot([0,1], [0,1], '--', color = 'black')\n",
    "\n",
    "\n",
    "fs = 14\n",
    "ax1.set_xlabel('1 - Specifity = 1 - TNR = FPR', fontsize=fs)\n",
    "ax1.set_ylabel('Sensitivity = TPR', fontsize=fs)\n",
    "ax1.tick_params(axis='both', labelsize=fs)\n",
    "\n",
    "AUC = np.trapz(tpr, fpr)\n",
    "AUC\n",
    "ax1.set_title(f'Training Data, AUC = {AUC:.4f}', fontsize=fs)\n",
    "\n",
    "# Predict probabilities on the testing data\n",
    "y_pred_test_prob = rfc.predict_proba(X_test_rf)[:, 1]\n",
    "fpr, tpr, thresholds = roc_curve(y_test, y_pred_test_prob)\n",
    "XX = tpr\n",
    "Y = fpr\n",
    "# Calculate the AUC (Area Under the Curve)\n",
    "\n",
    "# Plot the ROC curve\n",
    "fig1, ax1 = plt.subplots(1, 1, figsize=(10,6))\n",
    "\n",
    "ax1.step(fpr, tpr, linewidth= 1.5)\n",
    "\n",
    "# ROC curve\n",
    "ax1.plot([0,1], [0,1], '--', color = 'black')\n",
    "\n",
    "\n",
    "fs = 14\n",
    "ax1.set_xlabel('1 - Specifity = 1 - TNR = FPR', fontsize=fs)\n",
    "ax1.set_ylabel('Sensitivity = TPR', fontsize=fs)\n",
    "ax1.tick_params(axis='both', labelsize=fs)\n",
    "\n",
    "AUC = np.trapz(tpr, fpr)\n",
    "AUC\n",
    "ax1.set_title(f'Testing Data, AUC = {AUC:.4f}', fontsize=fs)"
   ]
  },
  {
   "cell_type": "markdown",
   "id": "93c8d3aa",
   "metadata": {},
   "source": [
    "### Feature Importance\n",
    "- Measures feature importance by how much tree nodes that use a feature reduce impurity, averaged across all the trees "
   ]
  },
  {
   "cell_type": "code",
   "execution_count": 31,
   "id": "3079b1c2",
   "metadata": {},
   "outputs": [
    {
     "name": "stdout",
     "output_type": "stream",
     "text": [
      "radius_mean : 0.08987548935838141\n",
      "texture_mean : 0.058564218055052915\n",
      "perimeter_mean : 0.13548000254082165\n",
      "area_mean : 0.10165475346463494\n",
      "smoothness_mean : 0.022511890090666935\n",
      "compactness_mean : 0.04683518320469924\n",
      "concavity_mean : 0.18518754269916843\n",
      "concave points_mean : 0.3184432785205431\n",
      "symmetry_mean : 0.01998004812804616\n",
      "fractal_dimension_mean : 0.021467593937985186\n"
     ]
    }
   ],
   "source": [
    "# Iterate over feature names and their importances\n",
    "for name, i in zip(X.columns, rfc.feature_importances_):\n",
    "    print(name, ':', i)"
   ]
  },
  {
   "cell_type": "markdown",
   "id": "ef0ad64f",
   "metadata": {},
   "source": [
    "## Summary of Key Points\n",
    "\n",
    "#### KNN (K-Nearest Neighbors):\n",
    "- Achieved a high accuracy of approximately 97% with 6 neighbors.\n",
    "- Hyperparameter tuning with GridSearchCV found the optimal value of 13 neighbors for KNN.\n",
    "- Identified that the feature \"concave points_mean\" had the highest importance (0.0392) when using 13 neighbors in the KNN model.\n",
    "- The accuracy, sensitivity (True Positive Rate), and specificity (True Negative Rate) for KNN with 13 neighbors were 94.74%, 90.48%, and 97.22%, respectively\n",
    "\n",
    "#### Naive Bayes Classifier:\n",
    "- Achieved an accuracy of 93%.\n",
    "- Sensitivity (True Positive Rate) was 87.30%, and Specificity (True Negative Rate) was 96.30%.\n",
    "- ROC curve has an AUC of 0.9896 for testing data\n",
    "\n",
    "\n",
    "#### Random Forest:\n",
    "- Achieved an accuracy of 94.74%.\n",
    "- Sensitivity (True Positive Rate) was 93.70%, and Specificity (True Negative Rate) was 95.40%.\n",
    "- Identified that the feature \"concave points_mean\" had the highest importance (0.3184).\n",
    "- ROC curve has an AUC of 0.9904 for testing data.\n"
   ]
  },
  {
   "cell_type": "markdown",
   "id": "3dc9070b",
   "metadata": {},
   "source": [
    "# <font style=\"color: red\">Discussion of Results:</font>\n",
    "- Again to rehighlight feature selection: \n",
    "    - I only used features that ended in \"mean\" from the UCI dataset. I narrowed it down to only the mean values as these values are often more stable/less sensitive to outliers.\n",
    "    - \"mean\" features may be more clinically relevant.\n",
    "    - Reduced dimensionality - less prone to overfitting.\n",
    "- The KNN with 6 neighbors achieved the highest accuracy among the models.\n",
    "- However, the choice of the hyperparameter k impacts the bias-variance trade-off. The KNN model with k=6 has lower bias but higher variance because it closely fits the training data, potentially capturing noise. This results in a higher accuracy on the training data but may lead to overfitting on unseen data. \n",
    "- The KNN model with k=13 has higher bias but lower variance, making it more robust to noise and less prone to overfitting. As a result, it has a slightly lower accuracy but better generalization to unseen data. Thus, when using GridSearchCV, was found to be the best k.\n",
    "- Feature importance highest with 'concave points_mean' = 0.0392 (k_best (13)).\n",
    "- Naive Bayes also performed well with a sensitivity of 0.8730 and specificity of 0.9630, demonstrating its effectiveness in this context (as having a high specificity and sensitivity is good). Its accuracy of 0.9300 is also notable.\n",
    "- The Random Forest model yielded an accuracy of 94.74%, indicating strong classification performance.\n",
    "- Sensitivity (True Positive Rate) was 93.70% and Specificity (True Negative Rate) was 95.40% strike a balance between correctly identifying malignant tumors and avoiding misclassification.\n",
    "- Additionally, both the Random Forest and KNN models identified that the feature \"concave points_mean\" holds the highest importance in classifying breast tumors as benign or malignant. \n",
    "- The consistent high importance of 'concave points_mean' highlights its critical role in distinguishing benign and malignant tumors (highlighting the feature's contribution to accurate breast cancer classification).\n",
    "- The precision-recall curves are what would be expected. At the thresholds with low recall, the precision is high, and at very high recall, the precision drops for all three models (KNN, Naive Bayes, and Decision Tree).\n",
    "- The two AUC scores are both very close to 1.00, which indicate they are both great for distinguishing between malignant/benign.\n",
    "    - Random Forest: AUC (0.9904), random forest is an ensemble learning method known for robustness, which explains its high AUC score.\n",
    "    - Naive Bayes: AUC (0.9896), known for simplicity, which also explains why its a good choice and has a high score.\n",
    "- Also wanted to note the precision-recall curve on the training data for the decision tree - is a perfect model curve. As it goes from the top left corner horizontically to the top right corner and straight down to the bottom right corner. The ROC curve as well for this one is also perfect, has an AUC = 1.00.\n",
    "    - This might be due to overfitting. Perhaps due to the number of trees.\n",
    "    - Model may be too complex, the trees could have too high of a depth / complexity.\n",
    "- When comparing these points (from the testing data) together, Random Forest has the highest overall scores.\n",
    "\n",
    "### Best Model:\n",
    "Based on the results, the Random Forest model is a strong choice for breast cancer diagnosis/classification. In contrast to the other models, this model excels in accurately identifying both malignant and benign cases of breast cancer.\n",
    "\n",
    "\n",
    "### Real World Implications:\n",
    "- These results imply that KNN is a robust model for breast cancer classification, particularly with an optimal neighbor count of 13. It is great for scenarios where high accuracy and minimizing false positives are crucial, such as in healthcare applications.\n",
    "\n",
    "- Naive Bayes, although slightly less accurate, offers a good balance between sensitivity and specificity, making it a practical choice when minimizing false positives, while still maintaining a high level of overall accuracy. \n",
    "    - It could help ensure patients with high risk of breast cancer are referred for additional tests.\n",
    "\n",
    "- Random Forest combines high accuracy with a strong balance of sensitivity and specificity. This model could be valuable in real-world applications where a balance between minimizing false positives and maximizing overall classification performance is needed.\n",
    "\n",
    "- The consistent high importance of the \"concave points_mean\" feature across two models highlights its importance in the clinical breast cancer sense. \n",
    "    - In the real world, this could lead to further research on the role of concave points in breast tumor assessment. \n",
    "    - Could lead to a much more targeted diagnostic.\n",
    "\n",
    "- Overall, these models could contribute to a timely intervention in breast cancer cases. Early detection would most likely improve patient outcomes."
   ]
  }
 ],
 "metadata": {
  "kernelspec": {
   "display_name": "Python 3",
   "language": "python",
   "name": "python3"
  },
  "language_info": {
   "codemirror_mode": {
    "name": "ipython",
    "version": 3
   },
   "file_extension": ".py",
   "mimetype": "text/x-python",
   "name": "python",
   "nbconvert_exporter": "python",
   "pygments_lexer": "ipython3",
   "version": "3.8.10"
  }
 },
 "nbformat": 4,
 "nbformat_minor": 5
}
